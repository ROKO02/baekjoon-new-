{
 "cells": [
  {
   "cell_type": "code",
   "execution_count": 22,
   "id": "35880e2e",
   "metadata": {},
   "outputs": [
    {
     "name": "stdout",
     "output_type": "stream",
     "text": [
      "3 3\n",
      "1 1 1\n",
      "2 2 2\n",
      "0 1 0\n",
      "3 3 3\n",
      "4 4 4\n",
      "5 5 100\n",
      "4 4 4 \n",
      "6 6 6 \n",
      "5 6 100 \n"
     ]
    }
   ],
   "source": [
    "n, m = map(int,input().split())\n",
    "a = []\n",
    "b = []\n",
    "for i in range(n):\n",
    "    a.append(list(map(int,input().split())))\n",
    "for i in range(n):\n",
    "    b.append(list(map(int,input().split())))\n",
    "for i in range(n):\n",
    "    s = ''\n",
    "    for j in range(m):\n",
    "        s += str(a[i][j] + b[i][j]) + ' '\n",
    "    print(s)"
   ]
  },
  {
   "cell_type": "markdown",
   "id": "8080ecca",
   "metadata": {},
   "source": [
    "a, b처럼 따로 선언을 하지않고 한번에 구현을 할 수 있을까?                                  \n",
    "3차원 배열?"
   ]
  },
  {
   "cell_type": "code",
   "execution_count": null,
   "id": "ca0b3ae5",
   "metadata": {
    "scrolled": false
   },
   "outputs": [],
   "source": []
  }
 ],
 "metadata": {
  "kernelspec": {
   "display_name": "Python 3",
   "language": "python",
   "name": "python3"
  },
  "language_info": {
   "codemirror_mode": {
    "name": "ipython",
    "version": 3
   },
   "file_extension": ".py",
   "mimetype": "text/x-python",
   "name": "python",
   "nbconvert_exporter": "python",
   "pygments_lexer": "ipython3",
   "version": "3.6.8"
  }
 },
 "nbformat": 4,
 "nbformat_minor": 5
}
