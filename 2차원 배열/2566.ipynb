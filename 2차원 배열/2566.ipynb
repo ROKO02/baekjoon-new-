{
 "cells": [
  {
   "cell_type": "code",
   "execution_count": null,
   "id": "289fc7ea",
   "metadata": {},
   "outputs": [],
   "source": [
    "lst = []\n",
    "max, cnt_x, cnt_y = 0, 0, 0\n",
    "for i in range(9):\n",
    "    lst.append(list(map(int,input().split())))\n",
    "\n",
    "for i in range(9):\n",
    "    for j in range(9):\n",
    "        if lst[i][j] > max:\n",
    "            max = lst[i][j]\n",
    "            cnt_x = i\n",
    "            cnt_y = j\n",
    "print(max)\n",
    "print(cnt_x+1, cnt_y+1)"
   ]
  },
  {
   "cell_type": "markdown",
   "id": "454f4eaf",
   "metadata": {},
   "source": [
    "2차원 배열 입력 구현을 너무 어렵게 생각을 한 것 같다.                                             \n",
    "그동안 1차원 배열에서는 max(), min() 같은 함수를 써서 최대, 최솟값을 구했는데 그 원리에 대해선 구현을 해보진 않았다.   \n",
    "이번 문제를 통해서 함수의 원리를 2차원 배열로 통해서 구현을 해보았다."
   ]
  }
 ],
 "metadata": {
  "kernelspec": {
   "display_name": "Python 3",
   "language": "python",
   "name": "python3"
  },
  "language_info": {
   "codemirror_mode": {
    "name": "ipython",
    "version": 3
   },
   "file_extension": ".py",
   "mimetype": "text/x-python",
   "name": "python",
   "nbconvert_exporter": "python",
   "pygments_lexer": "ipython3",
   "version": "3.6.8"
  }
 },
 "nbformat": 4,
 "nbformat_minor": 5
}
