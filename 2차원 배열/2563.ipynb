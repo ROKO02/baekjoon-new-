{
 "cells": [
  {
   "cell_type": "markdown",
   "id": "4da78224",
   "metadata": {},
   "source": [
    "try, except 후 max() 함수 다음으로 알고 있어야 할 유형인 것 같다."
   ]
  },
  {
   "cell_type": "code",
   "execution_count": 32,
   "id": "05a10775",
   "metadata": {
    "scrolled": true
   },
   "outputs": [
    {
     "name": "stdout",
     "output_type": "stream",
     "text": [
      "3\n",
      "3 7\n",
      "15 7\n",
      "5 2\n",
      "260\n"
     ]
    }
   ],
   "source": [
    "n = int(input())\n",
    "lst = [[0] * 101 for i in range(101)] ## ✔\n",
    "for i in range(n):\n",
    "    x, y = map(int,input().split())\n",
    "    for i in range(x,x+10): ## ✔\n",
    "        for j in range(y,y+10): ## ✔\n",
    "            lst[i][j] = 1\n",
    "result = 0\n",
    "for l in lst:\n",
    "    result += sum(l)\n",
    "print(result)"
   ]
  }
 ],
 "metadata": {
  "kernelspec": {
   "display_name": "Python 3",
   "language": "python",
   "name": "python3"
  },
  "language_info": {
   "codemirror_mode": {
    "name": "ipython",
    "version": 3
   },
   "file_extension": ".py",
   "mimetype": "text/x-python",
   "name": "python",
   "nbconvert_exporter": "python",
   "pygments_lexer": "ipython3",
   "version": "3.6.8"
  }
 },
 "nbformat": 4,
 "nbformat_minor": 5
}
