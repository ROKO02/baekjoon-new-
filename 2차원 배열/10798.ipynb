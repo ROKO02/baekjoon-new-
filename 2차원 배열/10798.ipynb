{
 "cells": [
  {
   "cell_type": "code",
   "execution_count": 10,
   "id": "50c79d0f",
   "metadata": {},
   "outputs": [
    {
     "name": "stdout",
     "output_type": "stream",
     "text": [
      "312\n",
      "ADD\n",
      "dww\n",
      "3Ad1Dw2Dw"
     ]
    }
   ],
   "source": [
    "lst = []\n",
    "max = 0\n",
    "for i in range(5):\n",
    "    lst.append(input())\n",
    "    if len(lst[i]) > max:\n",
    "        max = len(lst[i])\n",
    "for j in range(max):\n",
    "    for i in range(5):\n",
    "        try:\n",
    "            print(lst[i][j],end = '')\n",
    "        except IndexError:\n",
    "            pass"
   ]
  },
  {
   "cell_type": "code",
   "execution_count": null,
   "id": "289fc7ea",
   "metadata": {},
   "outputs": [],
   "source": []
  }
 ],
 "metadata": {
  "kernelspec": {
   "display_name": "Python 3",
   "language": "python",
   "name": "python3"
  },
  "language_info": {
   "codemirror_mode": {
    "name": "ipython",
    "version": 3
   },
   "file_extension": ".py",
   "mimetype": "text/x-python",
   "name": "python",
   "nbconvert_exporter": "python",
   "pygments_lexer": "ipython3",
   "version": "3.6.8"
  }
 },
 "nbformat": 4,
 "nbformat_minor": 5
}
