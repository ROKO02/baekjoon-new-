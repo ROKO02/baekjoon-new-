{
 "cells": [
  {
   "cell_type": "markdown",
   "id": "5a78be26",
   "metadata": {},
   "source": [
    "✔ 그룹단어 구분하는 조건을 구현하는데 시간을 많이 소요                                  \n",
    "   → 블로그를 참고하여 작성을 하긴 했지만 여전히 if조건줄이 헷갈림"
   ]
  },
  {
   "cell_type": "code",
   "execution_count": 23,
   "id": "aabed6b3",
   "metadata": {},
   "outputs": [
    {
     "name": "stdout",
     "output_type": "stream",
     "text": [
      "3\n",
      "happy\n",
      "new\n",
      "year\n",
      "3\n"
     ]
    }
   ],
   "source": [
    "n = int(input())\n",
    "cnt = n\n",
    "for i in range(n):\n",
    "    str = input().lower()\n",
    "    for j in range(len(str)-1):\n",
    "        #print(str[j],str[j+1])\n",
    "        if str[j] == str[j+1]:\n",
    "            pass\n",
    "        elif str[j] in str[j+1:]:  ## ⭐이해가 안되는 곳\n",
    "            cnt -= 1\n",
    "            break\n",
    "print(cnt)"
   ]
  },
  {
   "cell_type": "code",
   "execution_count": null,
   "id": "9b5f802d",
   "metadata": {},
   "outputs": [],
   "source": []
  }
 ],
 "metadata": {
  "kernelspec": {
   "display_name": "Python 3",
   "language": "python",
   "name": "python3"
  },
  "language_info": {
   "codemirror_mode": {
    "name": "ipython",
    "version": 3
   },
   "file_extension": ".py",
   "mimetype": "text/x-python",
   "name": "python",
   "nbconvert_exporter": "python",
   "pygments_lexer": "ipython3",
   "version": "3.6.8"
  }
 },
 "nbformat": 4,
 "nbformat_minor": 5
}
