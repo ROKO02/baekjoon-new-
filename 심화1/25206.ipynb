{
 "cells": [
  {
   "cell_type": "code",
   "execution_count": null,
   "id": "5148e663",
   "metadata": {},
   "outputs": [],
   "source": [
    "grade = {'A+': 4.5, 'A0': 4.0, 'B+': 3.5, 'B0': 3.0, 'C+': 2.5, 'C0': 2.0, 'D+': 1.5, 'D0' : 1.0, 'F' : 0.0}\n",
    "score_s = 0 # 학점 총점\n",
    "score_g = 0 # 전공과목별 합점(학점 X 과목평점)\n",
    "for i in range(20):\n",
    "    s = list(map(str,input().split()))\n",
    "    if s[2] != 'P':\n",
    "        score_s += float(s[1])\n",
    "        score_g += float(s[1]) * grade[s[2]]\n",
    "print('{:.6}'.format(score_g/score_s))"
   ]
  }
 ],
 "metadata": {
  "kernelspec": {
   "display_name": "Python 3",
   "language": "python",
   "name": "python3"
  },
  "language_info": {
   "codemirror_mode": {
    "name": "ipython",
    "version": 3
   },
   "file_extension": ".py",
   "mimetype": "text/x-python",
   "name": "python",
   "nbconvert_exporter": "python",
   "pygments_lexer": "ipython3",
   "version": "3.6.8"
  }
 },
 "nbformat": 4,
 "nbformat_minor": 5
}
