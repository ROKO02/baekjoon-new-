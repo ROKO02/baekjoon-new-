{
 "cells": [
  {
   "cell_type": "code",
   "execution_count": null,
   "id": "a1c19153",
   "metadata": {},
   "outputs": [],
   "source": [
    "while True:\n",
    "    try:\n",
    "        a = input()\n",
    "        print(a)\n",
    "    except EOFError:\n",
    "        break"
   ]
  },
  {
   "cell_type": "code",
   "execution_count": null,
   "id": "3fba6f97",
   "metadata": {},
   "outputs": [],
   "source": [
    "while True:\n",
    "    a = input()\n",
    "    if a == '':\n",
    "        break\n",
    "    else:\n",
    "        print(a)"
   ]
  },
  {
   "cell_type": "markdown",
   "id": "e34a76f0",
   "metadata": {},
   "source": [
    "except EOFError:\n",
    "    break\n",
    "무한으로 입력되고 아무것도 입력 안했을때 빠져나오는 조건"
   ]
  }
 ],
 "metadata": {
  "kernelspec": {
   "display_name": "Python 3",
   "language": "python",
   "name": "python3"
  },
  "language_info": {
   "codemirror_mode": {
    "name": "ipython",
    "version": 3
   },
   "file_extension": ".py",
   "mimetype": "text/x-python",
   "name": "python",
   "nbconvert_exporter": "python",
   "pygments_lexer": "ipython3",
   "version": "3.6.8"
  }
 },
 "nbformat": 4,
 "nbformat_minor": 5
}
