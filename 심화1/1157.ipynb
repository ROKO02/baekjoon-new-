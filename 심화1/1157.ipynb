{
 "cells": [
  {
   "cell_type": "code",
   "execution_count": 10,
   "id": "3bc79e11",
   "metadata": {},
   "outputs": [
    {
     "name": "stdout",
     "output_type": "stream",
     "text": [
      "zZa\n",
      "Z\n",
      "['A', 'Z']\n",
      "[1, 2]\n",
      "2\n",
      "1\n"
     ]
    }
   ],
   "source": [
    "strs= input().upper()\n",
    "str = list(set(strs))\n",
    "cnt = []\n",
    "for i in str:\n",
    "    a = strs.count(i)\n",
    "    cnt.append(a)\n",
    "if cnt.count(max(cnt)) > 1:\n",
    "    print('?')\n",
    "else:\n",
    "    print(str[cnt.index(max(cnt))])"
   ]
  },
  {
   "cell_type": "code",
   "execution_count": null,
   "id": "c0ef86cc",
   "metadata": {},
   "outputs": [],
   "source": []
  }
 ],
 "metadata": {
  "kernelspec": {
   "display_name": "Python 3",
   "language": "python",
   "name": "python3"
  },
  "language_info": {
   "codemirror_mode": {
    "name": "ipython",
    "version": 3
   },
   "file_extension": ".py",
   "mimetype": "text/x-python",
   "name": "python",
   "nbconvert_exporter": "python",
   "pygments_lexer": "ipython3",
   "version": "3.6.8"
  }
 },
 "nbformat": 4,
 "nbformat_minor": 5
}
