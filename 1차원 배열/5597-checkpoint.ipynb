{
 "cells": [
  {
   "cell_type": "code",
   "execution_count": 11,
   "id": "342cb29b",
   "metadata": {},
   "outputs": [
    {
     "name": "stdout",
     "output_type": "stream",
     "text": [
      "3\n",
      "1\n",
      "4\n",
      "5\n",
      "7\n",
      "9\n",
      "6\n",
      "10\n",
      "11\n",
      "12\n",
      "13\n",
      "14\n",
      "15\n",
      "16\n",
      "17\n",
      "18\n",
      "19\n",
      "20\n",
      "21\n",
      "22\n",
      "23\n",
      "24\n",
      "25\n",
      "26\n",
      "27\n",
      "28\n",
      "29\n",
      "30\n",
      "2\n",
      "8\n"
     ]
    }
   ],
   "source": [
    "list = [i for i in range(1,31)]\n",
    "do = []\n",
    "no = []\n",
    "for i in range(28):\n",
    "    a = int(input())\n",
    "    do.append(a)\n",
    "for i in range(30):\n",
    "    if list[i] not in do:\n",
    "        no.append(list[i])\n",
    "print(min(no))\n",
    "print(max(no))"
   ]
  },
  {
   "cell_type": "code",
   "execution_count": null,
   "id": "8c8569d0",
   "metadata": {},
   "outputs": [],
   "source": []
  }
 ],
 "metadata": {
  "kernelspec": {
   "display_name": "Python 3",
   "language": "python",
   "name": "python3"
  },
  "language_info": {
   "codemirror_mode": {
    "name": "ipython",
    "version": 3
   },
   "file_extension": ".py",
   "mimetype": "text/x-python",
   "name": "python",
   "nbconvert_exporter": "python",
   "pygments_lexer": "ipython3",
   "version": "3.6.8"
  }
 },
 "nbformat": 4,
 "nbformat_minor": 5
}
