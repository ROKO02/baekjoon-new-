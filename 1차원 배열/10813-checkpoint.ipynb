{
 "cells": [
  {
   "cell_type": "code",
   "execution_count": 8,
   "id": "8d1e2610",
   "metadata": {},
   "outputs": [
    {
     "name": "stdout",
     "output_type": "stream",
     "text": [
      "5 4\n",
      "1 2\n",
      "[2, 1, 3, 4, 5]\n",
      "3 4\n",
      "[2, 1, 4, 3, 5]\n",
      "1 4\n",
      "[3, 1, 4, 2, 5]\n",
      "2 2\n",
      "[3, 1, 4, 2, 5]\n",
      "[3, 1, 4, 2, 5]\n"
     ]
    }
   ],
   "source": [
    "n, m = map(int,input().split())\n",
    "result = [i for i in range(1,n+1)]\n",
    "for i in range(m):\n",
    "    i, j = map(int, input().split())\n",
    "    t = result[j-1]\n",
    "    result[j-1] = result[i-1]\n",
    "    result[i-1] = t\n",
    "for i in range(len(result)):\n",
    "    print(result[i], end=' ')"
   ]
  },
  {
   "cell_type": "code",
   "execution_count": null,
   "id": "dd79888b",
   "metadata": {},
   "outputs": [],
   "source": []
  }
 ],
 "metadata": {
  "kernelspec": {
   "display_name": "Python 3",
   "language": "python",
   "name": "python3"
  },
  "language_info": {
   "codemirror_mode": {
    "name": "ipython",
    "version": 3
   },
   "file_extension": ".py",
   "mimetype": "text/x-python",
   "name": "python",
   "nbconvert_exporter": "python",
   "pygments_lexer": "ipython3",
   "version": "3.6.8"
  }
 },
 "nbformat": 4,
 "nbformat_minor": 5
}
