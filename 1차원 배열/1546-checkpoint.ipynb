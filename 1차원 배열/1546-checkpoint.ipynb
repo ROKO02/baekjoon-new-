{
 "cells": [
  {
   "cell_type": "code",
   "execution_count": 3,
   "id": "9a15cd8c",
   "metadata": {},
   "outputs": [
    {
     "name": "stdout",
     "output_type": "stream",
     "text": [
      "3\n",
      "40 80 60\n",
      "75.0\n"
     ]
    }
   ],
   "source": [
    "n = int(input())\n",
    "score = list(map(int,input().split()))\n",
    "m = max(score)\n",
    "for i in range(n):\n",
    "    score[i] = score[i]/m*100\n",
    "print(sum(score)/n)"
   ]
  },
  {
   "cell_type": "code",
   "execution_count": null,
   "id": "22096e6d",
   "metadata": {},
   "outputs": [],
   "source": []
  },
  {
   "cell_type": "code",
   "execution_count": null,
   "id": "90563d5f",
   "metadata": {},
   "outputs": [],
   "source": []
  }
 ],
 "metadata": {
  "kernelspec": {
   "display_name": "Python 3",
   "language": "python",
   "name": "python3"
  },
  "language_info": {
   "codemirror_mode": {
    "name": "ipython",
    "version": 3
   },
   "file_extension": ".py",
   "mimetype": "text/x-python",
   "name": "python",
   "nbconvert_exporter": "python",
   "pygments_lexer": "ipython3",
   "version": "3.6.8"
  }
 },
 "nbformat": 4,
 "nbformat_minor": 5
}
