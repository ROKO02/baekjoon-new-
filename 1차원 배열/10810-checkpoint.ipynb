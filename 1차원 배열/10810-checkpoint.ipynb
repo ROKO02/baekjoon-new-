{
 "cells": [
  {
   "cell_type": "code",
   "execution_count": 4,
   "id": "f64f49af",
   "metadata": {},
   "outputs": [
    {
     "name": "stdout",
     "output_type": "stream",
     "text": [
      "5 4\n",
      "1 2 3\n",
      "3 4 4\n",
      "1 4 1\n",
      "2 2 2\n",
      "1 2 1 1 0 "
     ]
    }
   ],
   "source": [
    "n, m = map(int,input().split())\n",
    "result = [0 for e in range(n)]\n",
    "for i in range(m):\n",
    "    i, j, k =map(int, input().split())\n",
    "    for o in range(i-1,j):\n",
    "        result[o] = k\n",
    "for i in range(len(result)):\n",
    "    print(result[i], end=' ')"
   ]
  }
 ],
 "metadata": {
  "kernelspec": {
   "display_name": "Python 3",
   "language": "python",
   "name": "python3"
  },
  "language_info": {
   "codemirror_mode": {
    "name": "ipython",
    "version": 3
   },
   "file_extension": ".py",
   "mimetype": "text/x-python",
   "name": "python",
   "nbconvert_exporter": "python",
   "pygments_lexer": "ipython3",
   "version": "3.6.8"
  }
 },
 "nbformat": 4,
 "nbformat_minor": 5
}
