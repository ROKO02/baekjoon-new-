{
 "cells": [
  {
   "cell_type": "code",
   "execution_count": 31,
   "id": "b49e3e47",
   "metadata": {},
   "outputs": [
    {
     "name": "stdout",
     "output_type": "stream",
     "text": [
      "5 4\n",
      "1 2\n",
      "3 4\n",
      "1 4\n",
      "2 2\n",
      "3 4 1 2 5\n"
     ]
    }
   ],
   "source": [
    "n, m = map(int,input().split())\n",
    "array = [i for i in range(1,n+1)]\n",
    "t = []\n",
    "for i in range(m):\n",
    "    i, j = map(int, input().split())\n",
    "    t = array[i-1:j]\n",
    "    t.reverse()\n",
    "    array[i-1:j] = t\n",
    "print(*array)"
   ]
  },
  {
   "cell_type": "code",
   "execution_count": null,
   "id": "76b3d158",
   "metadata": {},
   "outputs": [],
   "source": []
  }
 ],
 "metadata": {
  "kernelspec": {
   "display_name": "Python 3",
   "language": "python",
   "name": "python3"
  },
  "language_info": {
   "codemirror_mode": {
    "name": "ipython",
    "version": 3
   },
   "file_extension": ".py",
   "mimetype": "text/x-python",
   "name": "python",
   "nbconvert_exporter": "python",
   "pygments_lexer": "ipython3",
   "version": "3.6.8"
  }
 },
 "nbformat": 4,
 "nbformat_minor": 5
}
